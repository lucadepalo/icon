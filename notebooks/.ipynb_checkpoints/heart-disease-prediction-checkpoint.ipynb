{
 "cells": [
  {
   "cell_type": "markdown",
   "metadata": {},
   "source": []
  },
  {
   "cell_type": "markdown",
   "metadata": {},
   "source": [
    "## What topic does the dataset cover?\n",
    "\n",
    "- According to the CDC, heart disease is one of the leading causes of death for people of most races in the US (African Americans, American Indians and Alaska Natives, and white people). About half of all Americans (47%) have at least 1 of 3 key risk factors for heart disease: high blood pressure, high cholesterol, and smoking. Other key indicator include diabetic status, obesity (high BMI), not getting enough physical activity or drinking too much alcohol. Detecting and preventing the factors that have the greatest impact on heart disease is very important in healthcare. Computational developments, in turn, allow the application of machine learning methods to detect \"patterns\" from the data that can predict a patient's condition.\n",
    "\n",
    "## Objectives of the notebook:\n",
    "- Explore and preprocessing the data set for classification models.\n",
    "\n",
    "## The machine learning models used in this dataset are:\n",
    "1. Decision Tree.\n",
    "2. K-Nearest Neighbors (KNN).\n",
    "\n",
    "## Explanation of the variables of the dataset\n",
    "1. HeartDisease : Respondents that have ever reported having coronary heart disease (CHD) or myocardial infarction (MI).\n",
    "2. BMI : Body Mass Index (BMI).\n",
    "3. Smoking : Have you smoked at least 100 cigarettes in your entire life? ( The answer Yes or No ).\n",
    "4. AlcoholDrinking : Heavy drinkers (adult men having more than 14 drinks per week and adult women having more than 7 drinks per week\n",
    "5. Stroke : (Ever told) (you had) a stroke?\n",
    "6. PhysicalHealth : Now thinking about your physical health, which includes physical illness and injury, for how many days during the past 30 days was your physical health not good? (0-30 days).\n",
    "7. MentalHealth : Thinking about your mental health, for how many days during the past 30 days was your mental health not good? (0-30 days).\n",
    "8. DiffWalking : Do you have serious difficulty walking or climbing stairs?\n",
    "9. Sex : Are you male or female?\n",
    "10. AgeCategory: Fourteen-level age category.\n",
    "11. Race : Imputed race/ethnicity value.\n",
    "12. Diabetic : (Ever told) (you had) diabetes?\n",
    "13. PhysicalActivity : Adults who reported doing physical activity or exercise during the past 30 days other than their regular job.\n",
    "14. GenHealth : Would you say that in general your health is...\n",
    "15. SleepTime : On average, how many hours of sleep do you get in a 24-hour period?\n",
    "16. Asthma : (Ever told) (you had) asthma?\n",
    "17. KidneyDisease : Not including kidney stones, bladder infection or incontinence, were you ever told you had kidney disease?\n",
    "18. SkinCancer : (Ever told) (you had) skin cancer?"
   ]
  },
  {
   "cell_type": "markdown",
   "metadata": {
    "papermill": {
     "duration": 0.044624,
     "end_time": "2022-03-11T12:15:02.400548",
     "exception": false,
     "start_time": "2022-03-11T12:15:02.355924",
     "status": "completed"
    },
    "tags": []
   },
   "source": [
    "# <b>2 <span style='color:#0386f7de'>|</span> Importing libraries</b>"
   ]
  },
  {
   "cell_type": "code",
   "execution_count": null,
   "metadata": {
    "execution": {
     "iopub.execute_input": "2022-03-11T12:15:02.503065Z",
     "iopub.status.busy": "2022-03-11T12:15:02.501155Z",
     "iopub.status.idle": "2022-03-11T12:15:04.299455Z",
     "shell.execute_reply": "2022-03-11T12:15:04.298369Z",
     "shell.execute_reply.started": "2022-03-11T11:19:22.144476Z"
    },
    "papermill": {
     "duration": 1.849909,
     "end_time": "2022-03-11T12:15:04.299700",
     "exception": false,
     "start_time": "2022-03-11T12:15:02.449791",
     "status": "completed"
    },
    "pycharm": {
     "is_executing": true
    },
    "tags": []
   },
   "outputs": [],
   "source": [
    "import pandas as pd \n",
    "import numpy as np\n",
    "\n",
    "import seaborn as sns\n",
    "\n",
    "%matplotlib inline\n",
    "import matplotlib.pyplot as plt\n",
    "\n",
    "from sklearn.model_selection import train_test_split\n",
    "from sklearn.neighbors import KNeighborsClassifier\n",
    "from sklearn.linear_model import LogisticRegression\n",
    "from sklearn.compose import make_column_transformer\n",
    "from sklearn.preprocessing import OneHotEncoder\n",
    "from sklearn import metrics"
   ]
  },
  {
   "cell_type": "markdown",
   "metadata": {
    "papermill": {
     "duration": 0.042507,
     "end_time": "2022-03-11T12:15:04.389080",
     "exception": false,
     "start_time": "2022-03-11T12:15:04.346573",
     "status": "completed"
    },
    "tags": []
   },
   "source": [
    "# <b>3 <span style='color:#0386f7de'>|</span> Reading the dataset</b>"
   ]
  },
  {
   "cell_type": "code",
   "execution_count": null,
   "metadata": {
    "execution": {
     "iopub.execute_input": "2022-03-11T12:15:04.487408Z",
     "iopub.status.busy": "2022-03-11T12:15:04.486620Z",
     "iopub.status.idle": "2022-03-11T12:15:05.559639Z",
     "shell.execute_reply": "2022-03-11T12:15:05.559012Z",
     "shell.execute_reply.started": "2022-03-11T11:19:22.282759Z"
    },
    "papermill": {
     "duration": 1.125584,
     "end_time": "2022-03-11T12:15:05.559778",
     "exception": false,
     "start_time": "2022-03-11T12:15:04.434194",
     "status": "completed"
    },
    "pycharm": {
     "is_executing": true
    },
    "tags": []
   },
   "outputs": [],
   "source": [
    "df = pd.read_csv('heart_2020_cleaned.csv')\n",
    "df.head()"
   ]
  },
  {
   "cell_type": "markdown",
   "metadata": {
    "papermill": {
     "duration": 0.042448,
     "end_time": "2022-03-11T12:15:05.645169",
     "exception": false,
     "start_time": "2022-03-11T12:15:05.602721",
     "status": "completed"
    },
    "tags": []
   },
   "source": [
    "# <b>4 <span style='color:#0386f7de'>|</span> Summary Of Numerical Features</b>"
   ]
  },
  {
   "cell_type": "code",
   "execution_count": null,
   "metadata": {
    "execution": {
     "iopub.execute_input": "2022-03-11T12:15:05.753472Z",
     "iopub.status.busy": "2022-03-11T12:15:05.752789Z",
     "iopub.status.idle": "2022-03-11T12:15:05.884523Z",
     "shell.execute_reply": "2022-03-11T12:15:05.885025Z",
     "shell.execute_reply.started": "2022-03-11T11:19:23.131809Z"
    },
    "papermill": {
     "duration": 0.195373,
     "end_time": "2022-03-11T12:15:05.885196",
     "exception": false,
     "start_time": "2022-03-11T12:15:05.689823",
     "status": "completed"
    },
    "pycharm": {
     "is_executing": true
    },
    "tags": []
   },
   "outputs": [],
   "source": [
    "df.describe().T.style.set_properties(**{'background-color': 'grey','color': 'white','border-color': 'white'})"
   ]
  },
  {
   "cell_type": "markdown",
   "metadata": {
    "papermill": {
     "duration": 0.04345,
     "end_time": "2022-03-11T12:15:05.971724",
     "exception": false,
     "start_time": "2022-03-11T12:15:05.928274",
     "status": "completed"
    },
    "tags": []
   },
   "source": [
    "# <b>5 <span style='color:#0386f7de'>|</span> Data Cleaning</b>"
   ]
  },
  {
   "cell_type": "code",
   "execution_count": null,
   "metadata": {
    "execution": {
     "iopub.execute_input": "2022-03-11T12:15:06.068106Z",
     "iopub.status.busy": "2022-03-11T12:15:06.067302Z",
     "iopub.status.idle": "2022-03-11T12:15:06.561144Z",
     "shell.execute_reply": "2022-03-11T12:15:06.560423Z",
     "shell.execute_reply.started": "2022-03-11T11:19:23.279022Z"
    },
    "papermill": {
     "duration": 0.54565,
     "end_time": "2022-03-11T12:15:06.561320",
     "exception": false,
     "start_time": "2022-03-11T12:15:06.015670",
     "status": "completed"
    },
    "pycharm": {
     "is_executing": true
    },
    "tags": []
   },
   "outputs": [],
   "source": [
    "df.info()"
   ]
  },
  {
   "cell_type": "markdown",
   "metadata": {
    "papermill": {
     "duration": 0.045127,
     "end_time": "2022-03-11T12:15:06.651095",
     "exception": false,
     "start_time": "2022-03-11T12:15:06.605968",
     "status": "completed"
    },
    "tags": []
   },
   "source": [
    "##### The output shows that we have around 319795 entries with 18  columns. No null values, and we have 14 numeric features, and 4 categorial features. We can convert the string attributes that has only two possibilities of unique values, but first let's make sure that there is no abnormal values."
   ]
  },
  {
   "cell_type": "code",
   "execution_count": null,
   "metadata": {
    "execution": {
     "iopub.execute_input": "2022-03-11T12:15:06.767184Z",
     "iopub.status.busy": "2022-03-11T12:15:06.766453Z",
     "iopub.status.idle": "2022-03-11T12:15:07.088930Z",
     "shell.execute_reply": "2022-03-11T12:15:07.088305Z",
     "shell.execute_reply.started": "2022-03-11T11:19:23.484038Z"
    },
    "papermill": {
     "duration": 0.392432,
     "end_time": "2022-03-11T12:15:07.089077",
     "exception": false,
     "start_time": "2022-03-11T12:15:06.696645",
     "status": "completed"
    },
    "pycharm": {
     "is_executing": true
    },
    "tags": []
   },
   "outputs": [],
   "source": [
    "df.nunique()\n"
   ]
  },
  {
   "cell_type": "markdown",
   "metadata": {
    "papermill": {
     "duration": 0.043921,
     "end_time": "2022-03-11T12:15:07.179397",
     "exception": false,
     "start_time": "2022-03-11T12:15:07.135476",
     "status": "completed"
    },
    "tags": []
   },
   "source": [
    "#### We have some attributes that have more than two unique values, we'll use OneHotEncoder in the preprocessing step later."
   ]
  },
  {
   "cell_type": "code",
   "execution_count": null,
   "metadata": {
    "execution": {
     "iopub.execute_input": "2022-03-11T12:15:07.277212Z",
     "iopub.status.busy": "2022-03-11T12:15:07.275549Z",
     "iopub.status.idle": "2022-03-11T12:15:10.642228Z",
     "shell.execute_reply": "2022-03-11T12:15:10.641296Z",
     "shell.execute_reply.started": "2022-03-11T11:19:23.745814Z"
    },
    "papermill": {
     "duration": 3.419153,
     "end_time": "2022-03-11T12:15:10.642397",
     "exception": false,
     "start_time": "2022-03-11T12:15:07.223244",
     "status": "completed"
    },
    "pycharm": {
     "is_executing": true
    },
    "tags": []
   },
   "outputs": [],
   "source": [
    "df =  df[df.columns].replace({'Yes':1, 'No':0, 'Male':1,'Female':0,'No, borderline diabetes':'0','Yes (during pregnancy)':'1' })\n",
    "df['Diabetic'] = df['Diabetic'].astype(int)"
   ]
  },
  {
   "cell_type": "markdown",
   "metadata": {
    "papermill": {
     "duration": 0.04424,
     "end_time": "2022-03-11T12:15:10.733946",
     "exception": false,
     "start_time": "2022-03-11T12:15:10.689706",
     "status": "completed"
    },
    "tags": []
   },
   "source": [
    "# <b>6 <span style='color:#0386f7de'>|</span> Exploratory Analysis</b>"
   ]
  },
  {
   "cell_type": "markdown",
   "metadata": {
    "papermill": {
     "duration": 0.043883,
     "end_time": "2022-03-11T12:15:10.822636",
     "exception": false,
     "start_time": "2022-03-11T12:15:10.778753",
     "status": "completed"
    },
    "tags": []
   },
   "source": [
    "<div style=\"color:white;display:fill;border-radius:8px;\n",
    "            background-color:#363c40de;font-size:150%;\n",
    "            font-family:Nexa;letter-spacing:0.5px\">\n",
    "    <p style=\"padding: 8px\n",
    ";color:white;\"><b>6.1 | Visualization Of Categorical Features</b></p>\n",
    "</div>. "
   ]
  },
  {
   "cell_type": "code",
   "execution_count": null,
   "metadata": {
    "execution": {
     "iopub.execute_input": "2022-03-11T12:15:10.927959Z",
     "iopub.status.busy": "2022-03-11T12:15:10.927117Z",
     "iopub.status.idle": "2022-03-11T12:15:11.374653Z",
     "shell.execute_reply": "2022-03-11T12:15:11.373931Z",
     "shell.execute_reply.started": "2022-03-11T11:19:25.627908Z"
    },
    "papermill": {
     "duration": 0.506213,
     "end_time": "2022-03-11T12:15:11.374804",
     "exception": false,
     "start_time": "2022-03-11T12:15:10.868591",
     "status": "completed"
    },
    "pycharm": {
     "is_executing": true
    },
    "tags": []
   },
   "outputs": [],
   "source": [
    "\n",
    "\n",
    "fig, ax = plt.subplots(figsize = (13,6))\n",
    "\n",
    "ax.hist(df[df[\"HeartDisease\"]==1][\"Sex\"], bins=15, alpha=0.5, color=\"red\", label=\"HeartDisease\")\n",
    "ax.hist(df[df[\"HeartDisease\"]==0][\"Sex\"], bins=15, alpha=0.5, color=\"#fccc79\", label=\"Normal\")\n",
    "\n",
    "ax.set_xlabel(\"Sex\")\n",
    "ax.set_ylabel(\"Frequency\")\n",
    "\n",
    "fig.suptitle(\"Distribution of Cases with Yes/No heartdisease according to Sex\")\n",
    "\n",
    "ax.legend();"
   ]
  },
  {
   "cell_type": "markdown",
   "metadata": {
    "papermill": {
     "duration": 0.04608,
     "end_time": "2022-03-11T12:15:11.466471",
     "exception": false,
     "start_time": "2022-03-11T12:15:11.420391",
     "status": "completed"
    },
    "tags": []
   },
   "source": [
    "- Remember that number one refers to men and 0 refers to women on the x-axis.\n",
    "- Most cases of heart disease are men.\n",
    "- Most cases that got no hart disease are women "
   ]
  },
  {
   "cell_type": "code",
   "execution_count": null,
   "metadata": {
    "execution": {
     "iopub.execute_input": "2022-03-11T12:15:11.583536Z",
     "iopub.status.busy": "2022-03-11T12:15:11.582530Z",
     "iopub.status.idle": "2022-03-11T12:15:11.997974Z",
     "shell.execute_reply": "2022-03-11T12:15:11.998797Z",
     "shell.execute_reply.started": "2022-03-11T11:19:25.991126Z"
    },
    "papermill": {
     "duration": 0.480323,
     "end_time": "2022-03-11T12:15:11.999038",
     "exception": false,
     "start_time": "2022-03-11T12:15:11.518715",
     "status": "completed"
    },
    "pycharm": {
     "is_executing": true
    },
    "tags": []
   },
   "outputs": [],
   "source": [
    "fig, ax = plt.subplots(figsize = (13,6))\n",
    "\n",
    "ax.hist(df[df[\"HeartDisease\"]==1][\"Smoking\"], bins=15, alpha=0.5, color=\"red\", label=\"HeartDisease\")\n",
    "ax.hist(df[df[\"HeartDisease\"]==0][\"Smoking\"], bins=15, alpha=0.5, color=\"#fccc79\", label=\"Normal\")\n",
    "\n",
    "ax.set_xlabel(\"Smoking\")\n",
    "ax.set_ylabel(\"Frequency\")\n",
    "\n",
    "fig.suptitle(\"Distribution of Cases with Yes/No heartdisease according to being a smkoer or not.\")\n",
    "\n",
    "ax.legend();"
   ]
  },
  {
   "cell_type": "markdown",
   "metadata": {
    "papermill": {
     "duration": 0.048234,
     "end_time": "2022-03-11T12:15:12.098416",
     "exception": false,
     "start_time": "2022-03-11T12:15:12.050182",
     "status": "completed"
    },
    "tags": []
   },
   "source": [
    "- For smokers, they are the largest group that suffers from heart disease.\n",
    "- There are also cases of heart disease, although they don't  smoke, this is related to other factors."
   ]
  },
  {
   "cell_type": "code",
   "execution_count": null,
   "metadata": {
    "execution": {
     "iopub.execute_input": "2022-03-11T12:15:12.195919Z",
     "iopub.status.busy": "2022-03-11T12:15:12.195181Z",
     "iopub.status.idle": "2022-03-11T12:15:13.067879Z",
     "shell.execute_reply": "2022-03-11T12:15:13.067316Z",
     "shell.execute_reply.started": "2022-03-11T11:19:26.337625Z"
    },
    "papermill": {
     "duration": 0.922279,
     "end_time": "2022-03-11T12:15:13.068037",
     "exception": false,
     "start_time": "2022-03-11T12:15:12.145758",
     "status": "completed"
    },
    "pycharm": {
     "is_executing": true
    },
    "tags": []
   },
   "outputs": [],
   "source": [
    "plt.figure(figsize = (13,6))\n",
    "sns.countplot( x= df['Race'], hue = 'HeartDisease', data = df, palette = 'YlOrBr')\n",
    "plt.xlabel('Race')\n",
    "plt.ylabel('Frequency')\n",
    "plt.show()"
   ]
  },
  {
   "cell_type": "markdown",
   "metadata": {
    "papermill": {
     "duration": 0.046758,
     "end_time": "2022-03-11T12:15:13.162212",
     "exception": false,
     "start_time": "2022-03-11T12:15:13.115454",
     "status": "completed"
    },
    "tags": []
   },
   "source": [
    "- 1 refers to heartdisease.\n",
    "- 0 refers to normal state.\n",
    "- We can see that white people are more susceptible to heart disease."
   ]
  },
  {
   "cell_type": "code",
   "execution_count": null,
   "metadata": {
    "execution": {
     "iopub.execute_input": "2022-03-11T12:15:13.299364Z",
     "iopub.status.busy": "2022-03-11T12:15:13.298289Z",
     "iopub.status.idle": "2022-03-11T12:15:14.233615Z",
     "shell.execute_reply": "2022-03-11T12:15:14.232738Z",
     "shell.execute_reply.started": "2022-03-11T11:19:26.905997Z"
    },
    "papermill": {
     "duration": 1.024505,
     "end_time": "2022-03-11T12:15:14.233819",
     "exception": false,
     "start_time": "2022-03-11T12:15:13.209314",
     "status": "completed"
    },
    "pycharm": {
     "is_executing": true
    },
    "tags": []
   },
   "outputs": [],
   "source": [
    "plt.figure(figsize = (13,6))\n",
    "sns.countplot(x = df['AgeCategory'], hue = 'HeartDisease', data = df, palette = 'YlOrBr')\n",
    "fig.suptitle(\"Distribution of Cases with Yes/No hartdisease according to AgeCategory\")\n",
    "plt.xlabel('AgeCategory')\n",
    "plt.ylabel('Frequency')\n",
    "plt.show()"
   ]
  },
  {
   "cell_type": "markdown",
   "metadata": {
    "papermill": {
     "duration": 0.049107,
     "end_time": "2022-03-11T12:15:14.333840",
     "exception": false,
     "start_time": "2022-03-11T12:15:14.284733",
     "status": "completed"
    },
    "tags": []
   },
   "source": [
    "- We can see that people who are 80 or older are more likely to get HeartDiseases."
   ]
  },
  {
   "cell_type": "code",
   "execution_count": null,
   "metadata": {
    "execution": {
     "iopub.execute_input": "2022-03-11T12:15:14.433959Z",
     "iopub.status.busy": "2022-03-11T12:15:14.432957Z",
     "iopub.status.idle": "2022-03-11T12:15:14.801492Z",
     "shell.execute_reply": "2022-03-11T12:15:14.801971Z",
     "shell.execute_reply.started": "2022-03-11T11:19:27.558520Z"
    },
    "papermill": {
     "duration": 0.420197,
     "end_time": "2022-03-11T12:15:14.802148",
     "exception": false,
     "start_time": "2022-03-11T12:15:14.381951",
     "status": "completed"
    },
    "pycharm": {
     "is_executing": true
    },
    "tags": []
   },
   "outputs": [],
   "source": [
    "fig, ax = plt.subplots(figsize = (13,6))\n",
    "\n",
    "ax.hist(df[df[\"HeartDisease\"]==1][\"KidneyDisease\"], bins=15, alpha=0.5, color=\"red\", label=\"HeartDisease\")\n",
    "ax.hist(df[df[\"HeartDisease\"]==0][\"KidneyDisease\"], bins=15, alpha=0.5, color=\"#fccc79\", label=\"Normal\")\n",
    "\n",
    "ax.set_xlabel(\"KidneyDisease\")\n",
    "ax.set_ylabel(\"Frequency\")\n",
    "\n",
    "fig.suptitle(\"Distribution of Cases with Yes/No heartdisease according to kidneydisease\")\n",
    "\n",
    "ax.legend();"
   ]
  },
  {
   "cell_type": "code",
   "execution_count": null,
   "metadata": {
    "execution": {
     "iopub.execute_input": "2022-03-11T12:15:14.906169Z",
     "iopub.status.busy": "2022-03-11T12:15:14.905068Z",
     "iopub.status.idle": "2022-03-11T12:15:15.412490Z",
     "shell.execute_reply": "2022-03-11T12:15:15.411839Z",
     "shell.execute_reply.started": "2022-03-11T11:19:27.896894Z"
    },
    "papermill": {
     "duration": 0.561618,
     "end_time": "2022-03-11T12:15:15.412664",
     "exception": false,
     "start_time": "2022-03-11T12:15:14.851046",
     "status": "completed"
    },
    "pycharm": {
     "is_executing": true
    },
    "tags": []
   },
   "outputs": [],
   "source": [
    "fig, ax = plt.subplots(figsize = (13,6))\n",
    "\n",
    "ax.hist(df[df[\"HeartDisease\"]==1][\"SkinCancer\"], bins=15, alpha=0.5, color=\"red\", label=\"HeartDisease\")\n",
    "ax.hist(df[df[\"HeartDisease\"]==0][\"SkinCancer\"], bins=15, alpha=0.5, color=\"#fccc79\", label=\"Normal\")\n",
    "\n",
    "ax.set_xlabel(\"SkinCancer\")\n",
    "ax.set_ylabel(\"Frequency\")\n",
    "\n",
    "fig.suptitle(\"Distribution of Cases with Yes/No heartdisease based on previous exposure to skin cancer\")\n",
    "\n",
    "ax.legend();"
   ]
  },
  {
   "cell_type": "code",
   "execution_count": null,
   "metadata": {
    "execution": {
     "iopub.execute_input": "2022-03-11T12:15:15.538010Z",
     "iopub.status.busy": "2022-03-11T12:15:15.536897Z",
     "iopub.status.idle": "2022-03-11T12:15:15.889397Z",
     "shell.execute_reply": "2022-03-11T12:15:15.888830Z",
     "shell.execute_reply.started": "2022-03-11T11:19:28.355822Z"
    },
    "papermill": {
     "duration": 0.425428,
     "end_time": "2022-03-11T12:15:15.889615",
     "exception": false,
     "start_time": "2022-03-11T12:15:15.464187",
     "status": "completed"
    },
    "pycharm": {
     "is_executing": true
    },
    "tags": []
   },
   "outputs": [],
   "source": [
    "fig, ax = plt.subplots(figsize = (13,6))\n",
    "\n",
    "ax.hist(df[df[\"HeartDisease\"]==1][\"Stroke\"], bins=15, alpha=0.5, color=\"red\", label=\"HeartDisease\")\n",
    "ax.hist(df[df[\"HeartDisease\"]==0][\"Stroke\"], bins=15, alpha=0.5, color=\"#fccc79\", label=\"Normal\")\n",
    "\n",
    "ax.set_xlabel(\"Stroke\")\n",
    "ax.set_ylabel(\"Frequency\")\n",
    "\n",
    "fig.suptitle(\"Distribution of Cases with Yes/No hartdisease based on previous exposure to Stroke\")\n",
    "\n",
    "ax.legend();"
   ]
  },
  {
   "cell_type": "code",
   "execution_count": null,
   "metadata": {
    "execution": {
     "iopub.execute_input": "2022-03-11T12:15:16.016981Z",
     "iopub.status.busy": "2022-03-11T12:15:16.014869Z",
     "iopub.status.idle": "2022-03-11T12:15:16.359740Z",
     "shell.execute_reply": "2022-03-11T12:15:16.360315Z",
     "shell.execute_reply.started": "2022-03-11T11:19:28.692766Z"
    },
    "papermill": {
     "duration": 0.419771,
     "end_time": "2022-03-11T12:15:16.360521",
     "exception": false,
     "start_time": "2022-03-11T12:15:15.940750",
     "status": "completed"
    },
    "pycharm": {
     "is_executing": true
    },
    "tags": []
   },
   "outputs": [],
   "source": [
    "fig, ax = plt.subplots(figsize = (13,6))\n",
    "\n",
    "ax.hist(df[df[\"HeartDisease\"]==1][\"Diabetic\"], bins=15, alpha=0.5, color=\"red\", label=\"HeartDisease\")\n",
    "ax.hist(df[df[\"HeartDisease\"]==0][\"Diabetic\"], bins=15, alpha=0.5, color=\"#fccc79\", label=\"Normal\")\n",
    "\n",
    "ax.set_xlabel(\"Diabetic\")\n",
    "ax.set_ylabel(\"Frequency\")\n",
    "\n",
    "fig.suptitle(\"Distribution of Cases with Yes/No hartdisease based on previous exposure to Diabetic\")\n",
    "\n",
    "ax.legend();"
   ]
  },
  {
   "cell_type": "markdown",
   "metadata": {
    "papermill": {
     "duration": 0.053393,
     "end_time": "2022-03-11T12:15:16.468007",
     "exception": false,
     "start_time": "2022-03-11T12:15:16.414614",
     "status": "completed"
    },
    "tags": []
   },
   "source": [
    "<div style=\"color:white;display:fill;border-radius:8px;\n",
    "            background-color:#363c40de;font-size:150%;\n",
    "            font-family:Nexa;letter-spacing:0.5px\">\n",
    "    <p style=\"padding: 8px\n",
    ";color:white;\"><b>6.2 | Visualization Of Numerical Features</b></p>\n",
    "</div>. "
   ]
  },
  {
   "cell_type": "code",
   "execution_count": null,
   "metadata": {
    "execution": {
     "iopub.execute_input": "2022-03-11T12:15:16.581103Z",
     "iopub.status.busy": "2022-03-11T12:15:16.580307Z",
     "iopub.status.idle": "2022-03-11T12:15:18.253867Z",
     "shell.execute_reply": "2022-03-11T12:15:18.254391Z",
     "shell.execute_reply.started": "2022-03-11T11:19:29.027068Z"
    },
    "papermill": {
     "duration": 1.731308,
     "end_time": "2022-03-11T12:15:18.254589",
     "exception": false,
     "start_time": "2022-03-11T12:15:16.523281",
     "status": "completed"
    },
    "pycharm": {
     "is_executing": true
    },
    "tags": []
   },
   "outputs": [],
   "source": [
    "correlation = df.corr().round(2)\n",
    "plt.figure(figsize = (14,7))\n",
    "sns.heatmap(correlation, annot = True, cmap = 'YlOrBr')"
   ]
  },
  {
   "cell_type": "code",
   "execution_count": null,
   "metadata": {
    "execution": {
     "iopub.execute_input": "2022-03-11T12:15:18.375472Z",
     "iopub.status.busy": "2022-03-11T12:15:18.374424Z",
     "iopub.status.idle": "2022-03-11T12:15:18.724984Z",
     "shell.execute_reply": "2022-03-11T12:15:18.724221Z",
     "shell.execute_reply.started": "2022-03-11T11:19:30.603503Z"
    },
    "papermill": {
     "duration": 0.41192,
     "end_time": "2022-03-11T12:15:18.725146",
     "exception": false,
     "start_time": "2022-03-11T12:15:18.313226",
     "status": "completed"
    },
    "pycharm": {
     "is_executing": true
    },
    "tags": []
   },
   "outputs": [],
   "source": [
    "sns.set_style('white')\n",
    "sns.set_palette('YlOrBr')\n",
    "plt.figure(figsize = (13,6))\n",
    "plt.title('Distribution of correlation of features')\n",
    "abs(correlation['HeartDisease']).sort_values()[:-1].plot.barh()\n",
    "plt.show()"
   ]
  },
  {
   "cell_type": "code",
   "execution_count": null,
   "metadata": {
    "execution": {
     "iopub.execute_input": "2022-03-11T12:15:18.870085Z",
     "iopub.status.busy": "2022-03-11T12:15:18.869320Z",
     "iopub.status.idle": "2022-03-11T12:15:20.433910Z",
     "shell.execute_reply": "2022-03-11T12:15:20.433263Z",
     "shell.execute_reply.started": "2022-03-11T11:19:30.913443Z"
    },
    "papermill": {
     "duration": 1.649319,
     "end_time": "2022-03-11T12:15:20.434061",
     "exception": false,
     "start_time": "2022-03-11T12:15:18.784742",
     "status": "completed"
    },
    "pycharm": {
     "is_executing": true
    },
    "tags": []
   },
   "outputs": [],
   "source": [
    "fig, ax = plt.subplots(figsize = (13,5))\n",
    "sns.kdeplot(df[df[\"HeartDisease\"]==1][\"BMI\"], alpha=0.5,shade = True, color=\"red\", label=\"HeartDisease\", ax = ax)\n",
    "sns.kdeplot(df[df[\"HeartDisease\"]==0][\"BMI\"], alpha=0.5,shade = True, color=\"#fccc79\", label=\"Normal\", ax = ax)\n",
    "plt.title('Distribution of Body Mass Index', fontsize = 18)\n",
    "ax.set_xlabel(\"BodyMass\")\n",
    "ax.set_ylabel(\"Frequency\")\n",
    "ax.legend();\n",
    "plt.show()"
   ]
  },
  {
   "cell_type": "markdown",
   "metadata": {
    "papermill": {
     "duration": 0.059267,
     "end_time": "2022-03-11T12:15:20.556304",
     "exception": false,
     "start_time": "2022-03-11T12:15:20.497037",
     "status": "completed"
    },
    "tags": []
   },
   "source": [
    "#### We can see that people who weigh less than 40 kg are more likely to get heart disease!"
   ]
  },
  {
   "cell_type": "code",
   "execution_count": null,
   "metadata": {
    "execution": {
     "iopub.execute_input": "2022-03-11T12:15:20.680175Z",
     "iopub.status.busy": "2022-03-11T12:15:20.679081Z",
     "iopub.status.idle": "2022-03-11T12:15:22.252254Z",
     "shell.execute_reply": "2022-03-11T12:15:22.252766Z",
     "shell.execute_reply.started": "2022-03-11T11:19:32.456739Z"
    },
    "papermill": {
     "duration": 1.636828,
     "end_time": "2022-03-11T12:15:22.252974",
     "exception": false,
     "start_time": "2022-03-11T12:15:20.616146",
     "status": "completed"
    },
    "pycharm": {
     "is_executing": true
    },
    "tags": []
   },
   "outputs": [],
   "source": [
    "fig, ax = plt.subplots(figsize = (13,5))\n",
    "sns.kdeplot(df[df[\"HeartDisease\"]==1][\"SleepTime\"], alpha=0.5,shade = True, color=\"red\", label=\"HeartDisease\", ax = ax)\n",
    "sns.kdeplot(df[df[\"HeartDisease\"]==0][\"SleepTime\"], alpha=0.5,shade = True, color=\"#fccc79\", label=\"Normal\", ax = ax)\n",
    "plt.title('Distribution of SleepTime values', fontsize = 18)\n",
    "ax.set_xlabel(\"SleepTime\")\n",
    "ax.set_ylabel(\"Frequency\")\n",
    "ax.legend();\n",
    "plt.show()"
   ]
  },
  {
   "cell_type": "code",
   "execution_count": null,
   "metadata": {
    "execution": {
     "iopub.execute_input": "2022-03-11T12:15:22.400673Z",
     "iopub.status.busy": "2022-03-11T12:15:22.376538Z",
     "iopub.status.idle": "2022-03-11T12:15:24.100610Z",
     "shell.execute_reply": "2022-03-11T12:15:24.100036Z",
     "shell.execute_reply.started": "2022-03-11T11:19:33.997766Z"
    },
    "papermill": {
     "duration": 1.787416,
     "end_time": "2022-03-11T12:15:24.100770",
     "exception": false,
     "start_time": "2022-03-11T12:15:22.313354",
     "status": "completed"
    },
    "pycharm": {
     "is_executing": true
    },
    "tags": []
   },
   "outputs": [],
   "source": [
    "fig, ax = plt.subplots(figsize = (13,5))\n",
    "sns.kdeplot(df[df[\"HeartDisease\"]==1][\"PhysicalHealth\"], alpha=0.5,shade = True, color=\"red\", label=\"HeartDisease\", ax = ax)\n",
    "sns.kdeplot(df[df[\"HeartDisease\"]==0][\"PhysicalHealth\"], alpha=0.5,shade = True, color=\"#fccc79\", label=\"Normal\", ax = ax)\n",
    "plt.title('Distribution of PhysicalHealth state for the last 30 days', fontsize = 18) # Read the introduction to know what the scale of numerical features mean\n",
    "ax.set_xlabel(\"PhysicalHealth\")\n",
    "ax.set_ylabel(\"Frequency\")\n",
    "ax.legend();\n",
    "plt.show()"
   ]
  },
  {
   "cell_type": "code",
   "execution_count": null,
   "metadata": {
    "execution": {
     "iopub.execute_input": "2022-03-11T12:15:24.247687Z",
     "iopub.status.busy": "2022-03-11T12:15:24.246978Z",
     "iopub.status.idle": "2022-03-11T12:15:25.868971Z",
     "shell.execute_reply": "2022-03-11T12:15:25.868194Z",
     "shell.execute_reply.started": "2022-03-11T11:19:35.656083Z"
    },
    "papermill": {
     "duration": 1.705666,
     "end_time": "2022-03-11T12:15:25.869122",
     "exception": false,
     "start_time": "2022-03-11T12:15:24.163456",
     "status": "completed"
    },
    "pycharm": {
     "is_executing": true
    },
    "tags": []
   },
   "outputs": [],
   "source": [
    "fig, ax = plt.subplots(figsize = (13,5))\n",
    "sns.kdeplot(df[df[\"HeartDisease\"]==1][\"MentalHealth\"], alpha=0.5,shade = True, color=\"red\", label=\"HeartDisease\", ax = ax)\n",
    "sns.kdeplot(df[df[\"HeartDisease\"]==0][\"MentalHealth\"], alpha=0.5,shade = True, color=\"#fccc79\", label=\"Normal\", ax = ax)\n",
    "plt.title('Distribution of MenalHealth state for the last 30 days', fontsize = 18)\n",
    "ax.set_xlabel(\"MentalHealth\")\n",
    "ax.set_ylabel(\"Frequency\")\n",
    "ax.legend();\n",
    "plt.show()"
   ]
  },
  {
   "cell_type": "markdown",
   "metadata": {
    "papermill": {
     "duration": 0.063728,
     "end_time": "2022-03-11T12:15:25.998406",
     "exception": false,
     "start_time": "2022-03-11T12:15:25.934678",
     "status": "completed"
    },
    "tags": []
   },
   "source": [
    "# <b>7<span style='color:#0386f7de'>|</span> Data Preprocessing</b>"
   ]
  },
  {
   "cell_type": "markdown",
   "metadata": {
    "papermill": {
     "duration": 0.06312,
     "end_time": "2022-03-11T12:15:26.126020",
     "exception": false,
     "start_time": "2022-03-11T12:15:26.062900",
     "status": "completed"
    },
    "tags": []
   },
   "source": [
    "<div style=\"color:white;display:fill;border-radius:8px;\n",
    "            background-color:#363c40de;font-size:150%;\n",
    "            font-family:Nexa;letter-spacing:0.5px\">\n",
    "    <p style=\"padding: 8px\n",
    ";color:white;\"><b>7.1 | standardization</b></p>\n",
    "</div>. "
   ]
  },
  {
   "cell_type": "code",
   "execution_count": null,
   "metadata": {
    "execution": {
     "iopub.execute_input": "2022-03-11T12:15:26.258010Z",
     "iopub.status.busy": "2022-03-11T12:15:26.257263Z",
     "iopub.status.idle": "2022-03-11T12:15:26.294282Z",
     "shell.execute_reply": "2022-03-11T12:15:26.294857Z",
     "shell.execute_reply.started": "2022-03-11T11:19:37.296908Z"
    },
    "papermill": {
     "duration": 0.104231,
     "end_time": "2022-03-11T12:15:26.295039",
     "exception": false,
     "start_time": "2022-03-11T12:15:26.190808",
     "status": "completed"
    },
    "pycharm": {
     "is_executing": true
    },
    "tags": []
   },
   "outputs": [],
   "source": [
    "from sklearn.preprocessing import StandardScaler \n",
    "num_cols = ['MentalHealth', 'BMI', 'PhysicalHealth', 'SleepTime']\n",
    "Scaler = StandardScaler()\n",
    "df[num_cols] = Scaler.fit_transform(df[num_cols])"
   ]
  },
  {
   "cell_type": "markdown",
   "metadata": {
    "papermill": {
     "duration": 0.064149,
     "end_time": "2022-03-11T12:15:26.423812",
     "exception": false,
     "start_time": "2022-03-11T12:15:26.359663",
     "status": "completed"
    },
    "tags": []
   },
   "source": [
    "<div style=\"color:white;display:fill;border-radius:8px;\n",
    "            background-color:#363c40de;font-size:150%;\n",
    "            font-family:Nexa;letter-spacing:0.5px\">\n",
    "    <p style=\"padding: 8px\n",
    ";color:white;\"><b>7.2  | Encoding</b></p>\n",
    "</div>. "
   ]
  },
  {
   "cell_type": "code",
   "execution_count": null,
   "metadata": {
    "execution": {
     "iopub.execute_input": "2022-03-11T12:15:26.559348Z",
     "iopub.status.busy": "2022-03-11T12:15:26.558660Z",
     "iopub.status.idle": "2022-03-11T12:15:27.336767Z",
     "shell.execute_reply": "2022-03-11T12:15:27.337299Z",
     "shell.execute_reply.started": "2022-03-11T11:19:37.330518Z"
    },
    "papermill": {
     "duration": 0.846317,
     "end_time": "2022-03-11T12:15:27.337519",
     "exception": false,
     "start_time": "2022-03-11T12:15:26.491202",
     "status": "completed"
    },
    "pycharm": {
     "is_executing": true
    },
    "tags": []
   },
   "outputs": [],
   "source": [
    "from sklearn.preprocessing import OneHotEncoder \n",
    "enc = OneHotEncoder() \n",
    "\n",
    "# Encoding categorical features \n",
    "categ = df[['AgeCategory', 'Race', 'GenHealth']]\n",
    "encoded_categ = pd.DataFrame(enc.fit_transform(categ).toarray())\n",
    "\n",
    "#Likning the encoed_cateh with the df\n",
    "df = pd.concat([df, encoded_categ], axis = 1)\n",
    "\n",
    "# Dropping the categorical features\n",
    "df = df.drop(columns = ['AgeCategory', 'Race', 'GenHealth'], axis = 1)"
   ]
  },
  {
   "cell_type": "markdown",
   "metadata": {
    "papermill": {
     "duration": 0.063887,
     "end_time": "2022-03-11T12:15:27.465269",
     "exception": false,
     "start_time": "2022-03-11T12:15:27.401382",
     "status": "completed"
    },
    "tags": []
   },
   "source": [
    "# <b>8<span style='color:#0386f7de'>|</span> Split Dataset for Training and Testing</b>"
   ]
  },
  {
   "cell_type": "code",
   "execution_count": null,
   "metadata": {
    "execution": {
     "iopub.execute_input": "2022-03-11T12:15:27.596165Z",
     "iopub.status.busy": "2022-03-11T12:15:27.595456Z",
     "iopub.status.idle": "2022-03-11T12:15:27.768909Z",
     "shell.execute_reply": "2022-03-11T12:15:27.768347Z",
     "shell.execute_reply.started": "2022-03-11T11:19:37.935187Z"
    },
    "papermill": {
     "duration": 0.240112,
     "end_time": "2022-03-11T12:15:27.769051",
     "exception": false,
     "start_time": "2022-03-11T12:15:27.528939",
     "status": "completed"
    },
    "pycharm": {
     "is_executing": true
    },
    "tags": []
   },
   "outputs": [],
   "source": [
    "#Select Features\n",
    "features = df.drop(columns =['HeartDisease'], axis = 1)\n",
    "\n",
    "#Select Target \n",
    "target = df['HeartDisease']\n",
    "\n",
    "# Set Training and Testing Data\n",
    "from sklearn.model_selection import train_test_split\n",
    "X_train, X_test, y_train, y_test = train_test_split(features, target, shuffle = True, test_size = .2, random_state = 44)\n",
    "\n",
    "\n",
    "print('Shape of training feature:', X_train.shape)\n",
    "print('Shape of testing feature:', X_test.shape)\n",
    "print('Shape of training label:', y_train.shape)\n",
    "print('Shape of training label:', y_test.shape)"
   ]
  },
  {
   "cell_type": "markdown",
   "metadata": {
    "papermill": {
     "duration": 0.065387,
     "end_time": "2022-03-11T12:15:27.899292",
     "exception": false,
     "start_time": "2022-03-11T12:15:27.833905",
     "status": "completed"
    },
    "tags": []
   },
   "source": [
    "# <b>9<span style='color:#0386f7de'>|</span> Modelling</b>"
   ]
  },
  {
   "cell_type": "code",
   "execution_count": null,
   "metadata": {
    "execution": {
     "iopub.execute_input": "2022-03-11T12:15:28.031253Z",
     "iopub.status.busy": "2022-03-11T12:15:28.030575Z",
     "iopub.status.idle": "2022-03-11T12:15:28.038321Z",
     "shell.execute_reply": "2022-03-11T12:15:28.038843Z",
     "shell.execute_reply.started": "2022-03-11T11:19:38.147643Z"
    },
    "papermill": {
     "duration": 0.075579,
     "end_time": "2022-03-11T12:15:28.039023",
     "exception": false,
     "start_time": "2022-03-11T12:15:27.963444",
     "status": "completed"
    },
    "pycharm": {
     "is_executing": true
    },
    "tags": []
   },
   "outputs": [],
   "source": [
    "def evaluate_model(model, x_test, y_test):\n",
    "    from sklearn import metrics\n",
    "\n",
    "    # Predict Test Data \n",
    "    y_pred = model.predict(x_test)\n",
    "\n",
    "    # Calculate accuracy, precision, recall, f1-score, and kappa score\n",
    "    acc = metrics.accuracy_score(y_test, y_pred)\n",
    "    prec = metrics.precision_score(y_test, y_pred)\n",
    "    rec = metrics.recall_score(y_test, y_pred)\n",
    "    f1 = metrics.f1_score(y_test, y_pred)\n",
    "    kappa = metrics.cohen_kappa_score(y_test, y_pred)\n",
    "\n",
    "    # Calculate area under curve (AUC)\n",
    "    y_pred_proba = model.predict_proba(x_test)[::,1]\n",
    "    fpr, tpr, _ = metrics.roc_curve(y_test, y_pred_proba)\n",
    "    auc = metrics.roc_auc_score(y_test, y_pred_proba)\n",
    "\n",
    "    # Display confussion matrix\n",
    "    cm = metrics.confusion_matrix(y_test, y_pred)\n",
    "\n",
    "    return {'acc': acc, 'prec': prec, 'rec': rec, 'f1': f1, 'kappa': kappa, \n",
    "            'fpr': fpr, 'tpr': tpr, 'auc': auc, 'cm': cm}"
   ]
  },
  {
   "cell_type": "markdown",
   "metadata": {
    "papermill": {
     "duration": 0.064029,
     "end_time": "2022-03-11T12:15:28.167887",
     "exception": false,
     "start_time": "2022-03-11T12:15:28.103858",
     "status": "completed"
    },
    "tags": []
   },
   "source": [
    "<div style=\"color:white;display:fill;border-radius:8px;\n",
    "            background-color:#363c40de;font-size:150%;\n",
    "            font-family:Nexa;letter-spacing:0.5px\">\n",
    "    <p style=\"padding: 8px\n",
    ";color:white;\"><b>7.2  | Building Model</b></p>\n",
    "</div>. "
   ]
  },
  {
   "cell_type": "code",
   "execution_count": null,
   "metadata": {
    "execution": {
     "iopub.execute_input": "2022-03-11T12:15:28.301046Z",
     "iopub.status.busy": "2022-03-11T12:15:28.300322Z",
     "iopub.status.idle": "2022-03-11T12:24:46.559902Z",
     "shell.execute_reply": "2022-03-11T12:24:46.560728Z",
     "shell.execute_reply.started": "2022-03-11T11:19:38.156264Z"
    },
    "papermill": {
     "duration": 558.327949,
     "end_time": "2022-03-11T12:24:46.560976",
     "exception": false,
     "start_time": "2022-03-11T12:15:28.233027",
     "status": "completed"
    },
    "pycharm": {
     "is_executing": true
    },
    "tags": []
   },
   "outputs": [],
   "source": [
    "# Building a model using KNeighborsClassifier \n",
    "from sklearn.neighbors import KNeighborsClassifier\n",
    "knn = KNeighborsClassifier(n_neighbors = 5)\n",
    "\n",
    "knn.fit(X_train, y_train)\n",
    "\n",
    "\n",
    "# Evaluate Model\n",
    "knn_eval = evaluate_model(knn, X_test, y_test)\n",
    "\n",
    "# Print result\n",
    "print('Accuracy:', knn_eval['acc'])\n",
    "print('Precision:', knn_eval['prec'])\n",
    "print('Recall:', knn_eval['rec'])\n",
    "print('F1 Score:', knn_eval['f1'])\n",
    "print('Cohens Kappa Score:', knn_eval['kappa'])\n",
    "print('Area Under Curve:', knn_eval['auc'])\n",
    "print('Confusion Matrix:\\n', knn_eval['cm'])"
   ]
  },
  {
   "cell_type": "code",
   "execution_count": null,
   "metadata": {
    "execution": {
     "iopub.execute_input": "2022-03-11T12:24:46.700646Z",
     "iopub.status.busy": "2022-03-11T12:24:46.699895Z",
     "iopub.status.idle": "2022-03-11T12:24:49.441600Z",
     "shell.execute_reply": "2022-03-11T12:24:49.441010Z",
     "shell.execute_reply.started": "2022-03-11T11:28:25.934886Z"
    },
    "papermill": {
     "duration": 2.815881,
     "end_time": "2022-03-11T12:24:49.441810",
     "exception": false,
     "start_time": "2022-03-11T12:24:46.625929",
     "status": "completed"
    },
    "pycharm": {
     "is_executing": true
    },
    "tags": []
   },
   "outputs": [],
   "source": [
    "from sklearn import tree\n",
    "\n",
    "# Building Decision Tree model \n",
    "clf = tree.DecisionTreeClassifier(random_state=0)\n",
    "clf.fit(X_train, y_train)\n",
    "\n",
    "# Evaluate Model\n",
    "clf_eval = evaluate_model(clf, X_test, y_test)\n",
    "\n",
    "# Print result\n",
    "print('Accuracy:', clf_eval['acc'])\n",
    "print('Precision:', clf_eval['prec'])\n",
    "print('Recall:', clf_eval['rec'])\n",
    "print('F1 Score:', clf_eval['f1'])\n",
    "print('Cohens Kappa Score:', clf_eval['kappa'])\n",
    "print('Area Under Curve:', clf_eval['auc'])\n",
    "print('Confusion Matrix:\\n', clf_eval['cm'])"
   ]
  },
  {
   "cell_type": "markdown",
   "metadata": {
    "papermill": {
     "duration": 0.063947,
     "end_time": "2022-03-11T12:24:49.570424",
     "exception": false,
     "start_time": "2022-03-11T12:24:49.506477",
     "status": "completed"
    },
    "tags": []
   },
   "source": [
    "# <b>10<span style='color:#0386f7de'>|</span> Comparison</b>"
   ]
  },
  {
   "cell_type": "code",
   "execution_count": null,
   "metadata": {
    "execution": {
     "iopub.execute_input": "2022-03-11T12:24:49.753757Z",
     "iopub.status.busy": "2022-03-11T12:24:49.751288Z",
     "iopub.status.idle": "2022-03-11T12:24:50.161129Z",
     "shell.execute_reply": "2022-03-11T12:24:50.161684Z",
     "shell.execute_reply.started": "2022-03-11T11:28:28.505701Z"
    },
    "papermill": {
     "duration": 0.524651,
     "end_time": "2022-03-11T12:24:50.161872",
     "exception": false,
     "start_time": "2022-03-11T12:24:49.637221",
     "status": "completed"
    },
    "pycharm": {
     "is_executing": true
    },
    "tags": []
   },
   "outputs": [],
   "source": [
    "# Intitialize figure with two plots\n",
    "fig, (ax1, ax2) = plt.subplots(1, 2)\n",
    "fig.suptitle('Model Comparison', fontsize=16, fontweight='bold')\n",
    "fig.set_figheight(7)\n",
    "fig.set_figwidth(14)\n",
    "fig.set_facecolor('white')\n",
    "\n",
    "# First plot\n",
    "## set bar size\n",
    "barWidth = 0.2\n",
    "clf_score = [clf_eval['acc'], clf_eval['prec'], clf_eval['rec'], clf_eval['f1'], clf_eval['kappa']]\n",
    "knn_score = [knn_eval['acc'], knn_eval['prec'], knn_eval['rec'], knn_eval['f1'], knn_eval['kappa']]\n",
    "\n",
    "## Set position of bar on X axis\n",
    "r1 = np.arange(len(clf_score))\n",
    "r2 = [x + barWidth for x in r1]\n",
    "\n",
    "## Make the plot\n",
    "ax1.bar(r1, clf_score, width=barWidth, edgecolor='white', label='Decision Tree')\n",
    "ax1.bar(r2, knn_score, width=barWidth, edgecolor='white', label='K-Nearest Neighbors')\n",
    "\n",
    "## Configure x and y axis\n",
    "ax1.set_xlabel('Metrics', fontweight='bold')\n",
    "labels = ['Accuracy', 'Precision', 'Recall', 'F1', 'Kappa']\n",
    "ax1.set_xticks([r + (barWidth * 1.5) for r in range(len(clf_score))], )\n",
    "ax1.set_xticklabels(labels)\n",
    "ax1.set_ylabel('Score', fontweight='bold')\n",
    "ax1.set_ylim(0, 1)\n",
    "\n",
    "## Create legend & title\n",
    "ax1.set_title('Evaluation Metrics', fontsize=14, fontweight='bold')\n",
    "ax1.legend()\n",
    "\n",
    "# Second plot\n",
    "## Comparing ROC Curve\n",
    "ax2.plot(clf_eval['fpr'], clf_eval['tpr'], label='Decision Tree, auc = {:0.5f}'.format(clf_eval['auc']))\n",
    "ax2.plot(knn_eval['fpr'], knn_eval['tpr'], label='K-Nearest Nieghbor, auc = {:0.5f}'.format(knn_eval['auc']))\n",
    "\n",
    "## Configure x and y axis\n",
    "ax2.set_xlabel('False Positive Rate', fontweight='bold')\n",
    "ax2.set_ylabel('True Positive Rate', fontweight='bold')\n",
    "\n",
    "## Create legend & title\n",
    "ax2.set_title('ROC Curve', fontsize=14, fontweight='bold')\n",
    "ax2.legend(loc=4)\n",
    "\n",
    "plt.show()"
   ]
  }
 ],
 "metadata": {
  "kernelspec": {
   "display_name": "Python 3",
   "language": "python",
   "name": "python3"
  },
  "papermill": {
   "default_parameters": {},
   "duration": 599.433796,
   "end_time": "2022-03-11T12:24:51.041057",
   "environment_variables": {},
   "exception": null,
   "input_path": "__notebook__.ipynb",
   "output_path": "__notebook__.ipynb",
   "parameters": {},
   "start_time": "2022-03-11T12:14:51.607261",
   "version": "2.3.3"
  }
 },
 "nbformat": 4,
 "nbformat_minor": 5
}
