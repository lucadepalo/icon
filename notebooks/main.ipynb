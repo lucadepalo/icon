{
 "cells": [
  {
   "cell_type": "code",
   "execution_count": null,
   "metadata": {},
   "outputs": [],
   "source": [
    "import pandas as pd\n",
    "import numpy as np\n",
    "import seaborn as sns\n",
    "import matplotlib.pyplot as plt\n",
    "from sklearn.model_selection import train_test_split\n",
    "from sklearn.neighbors import KNeighborsClassifier\n",
    "from sklearn.linear_model import LogisticRegression\n",
    "from sklearn.compose import make_column_transformer\n",
    "from sklearn.preprocessing import OneHotEncoder\n",
    "from sklearn import metrics\n",
    "from sklearn.metrics import plot_confusion_matrix\n",
    "from sklearn.metrics import confusion_matrix, ConfusionMatrixDisplay"
   ]
  },
  {
   "cell_type": "markdown",
   "metadata": {},
   "source": [
    "importa filtro warnings"
   ]
  },
  {
   "cell_type": "code",
   "execution_count": null,
   "metadata": {},
   "outputs": [],
   "source": [
    "from warnings import simplefilter"
   ]
  },
  {
   "cell_type": "markdown",
   "metadata": {},
   "source": [
    "ignora tutti i future warnings"
   ]
  },
  {
   "cell_type": "code",
   "execution_count": null,
   "metadata": {},
   "outputs": [],
   "source": [
    "simplefilter(action='ignore', category=FutureWarning)"
   ]
  },
  {
   "cell_type": "markdown",
   "metadata": {},
   "source": [
    "legge i dati dal csv<br>\n",
    "https://pandas.pydata.org/docs/reference/api/pandas.DataFrame.head.html"
   ]
  },
  {
   "cell_type": "code",
   "execution_count": null,
   "metadata": {},
   "outputs": [],
   "source": [
    "df = pd.read_csv('data/heart_2020_cleaned.csv')"
   ]
  },
  {
   "cell_type": "markdown",
   "metadata": {},
   "source": [
    "Questa funzione restituisce le prime n righe dell'oggetto basandosi sulla posizione.<br>\n",
    "parametri: n int, default 5. Numero di righe selezionate."
   ]
  },
  {
   "cell_type": "code",
   "execution_count": null,
   "metadata": {},
   "outputs": [],
   "source": [
    "print(df.head())"
   ]
  },
  {
   "cell_type": "markdown",
   "metadata": {},
   "source": [
    "https://pandas.pydata.org/docs/reference/api/pandas.DataFrame.describe.html<br>\n",
    "df.describe().T.style.set_properties(**{'background-color': 'grey', 'color': 'white', 'border-color': 'white'})"
   ]
  },
  {
   "cell_type": "markdown",
   "metadata": {},
   "source": [
    "https://pandas.pydata.org/docs/reference/api/pandas.DataFrame.info.html"
   ]
  },
  {
   "cell_type": "code",
   "execution_count": null,
   "metadata": {},
   "outputs": [],
   "source": [
    "df.info()"
   ]
  },
  {
   "cell_type": "markdown",
   "metadata": {},
   "source": [
    "https://pandas.pydata.org/docs/reference/api/pandas.DataFrame.nunique.html"
   ]
  },
  {
   "cell_type": "code",
   "execution_count": null,
   "metadata": {},
   "outputs": [],
   "source": [
    "print(df.nunique())"
   ]
  },
  {
   "cell_type": "markdown",
   "metadata": {},
   "source": [
    "sostituisce stringhe con valori di verità"
   ]
  },
  {
   "cell_type": "code",
   "execution_count": null,
   "metadata": {},
   "outputs": [],
   "source": [
    "df = df[df.columns].replace({'Yes': 1, 'No': 0, 'Male': 1, 'Female': 0, 'No, borderline diabetes': '0', 'Yes (during pregnancy)': '1'})\n",
    "df['Diabetic'] = df['Diabetic'].astype(int)"
   ]
  },
  {
   "cell_type": "markdown",
   "metadata": {},
   "source": [
    "mostra grafico"
   ]
  },
  {
   "cell_type": "code",
   "execution_count": null,
   "metadata": {},
   "outputs": [],
   "source": [
    "fig, ax = plt.subplots(figsize=(13, 6))"
   ]
  },
  {
   "cell_type": "markdown",
   "metadata": {},
   "source": [
    "imposta caratteristiche istogrammi"
   ]
  },
  {
   "cell_type": "code",
   "execution_count": null,
   "metadata": {},
   "outputs": [],
   "source": [
    "ax.hist(df[df[\"HeartDisease\"] == 1][\"Sex\"], bins=15, alpha=0.5, color=\"red\", label=\"Cardiopatia\")\n",
    "ax.hist(df[df[\"HeartDisease\"] == 0][\"Sex\"], bins=15, alpha=0.5, color=\"#fccc79\", label=\"Sano\")\n",
    "ax.set_xlabel(\"Sesso\")\n",
    "ax.set_ylabel(\"Frequenza\")\n",
    "fig.suptitle(\"Distribuzione di casi positivi e negativi in relazione al sesso\")\n",
    "ax.legend()"
   ]
  },
  {
   "cell_type": "code",
   "execution_count": null,
   "metadata": {},
   "outputs": [],
   "source": [
    "fig, ax = plt.subplots(figsize=(13, 6))\n",
    "ax.hist(df[df[\"HeartDisease\"] == 1][\"Smoking\"], bins=2, alpha=0.5, color=\"red\", label=\"Cardiopatia\")\n",
    "ax.hist(df[df[\"HeartDisease\"] == 0][\"Smoking\"], bins=2, alpha=0.5, color=\"#fccc79\", label=\"Sano\")\n",
    "ax.set_xlabel(\"Fumatore\")\n",
    "ax.set_ylabel(\"Frequenza\")\n",
    "fig.suptitle(\"Distribuzione di casi positivi e negativi in relazione al tabagismo.\")\n",
    "ax.legend()"
   ]
  },
  {
   "cell_type": "code",
   "execution_count": null,
   "metadata": {},
   "outputs": [],
   "source": [
    "plt.figure(figsize=(13, 6))\n",
    "sns.countplot(x=df['Race'], data=df)\n",
    "plt.xlabel('Etnia')\n",
    "plt.ylabel('Frequenza')\n",
    "plt.show()\n",
    "print(\"Distribuzione di casi positivi e negativi in relazione all'etnia\")"
   ]
  },
  {
   "cell_type": "code",
   "execution_count": null,
   "metadata": {},
   "outputs": [],
   "source": [
    "plt.figure(figsize=(13, 6))\n",
    "sns.countplot(x=df['AgeCategory'], data=df)  # hue='HeartDisease'\n",
    "fig.suptitle(\"Distribuzione di casi positivi e negativi in relazione alla fascia d'età\")\n",
    "plt.xlabel('Fascia d\\'età')\n",
    "plt.ylabel('Frequenza')\n",
    "plt.show()\n",
    "print('Distribuzione di casi positivi e negativi in relazione alla fascia d\\'età')"
   ]
  },
  {
   "cell_type": "code",
   "execution_count": null,
   "metadata": {},
   "outputs": [],
   "source": [
    "fig, ax = plt.subplots(figsize=(13, 6))\n",
    "ax.hist(df[df[\"HeartDisease\"] == 1][\"KidneyDisease\"], bins=15, alpha=0.5, color=\"red\", label=\"Cardiopatia\")\n",
    "ax.hist(df[df[\"HeartDisease\"] == 0][\"KidneyDisease\"], bins=15, alpha=0.5, color=\"#fccc79\", label=\"Sano\")\n",
    "ax.set_xlabel(\"Nefropatia\")\n",
    "ax.set_ylabel(\"Frequenza\")\n",
    "fig.suptitle(\"Distribuzione di casi positivi e negativi in relazione alle nefropatie\")\n",
    "ax.legend()"
   ]
  },
  {
   "cell_type": "code",
   "execution_count": null,
   "metadata": {},
   "outputs": [],
   "source": [
    "fig, ax = plt.subplots(figsize=(13, 6))\n",
    "ax.hist(df[df[\"HeartDisease\"] == 1][\"SkinCancer\"], bins=15, alpha=0.5, color=\"red\", label=\"Cardiopatia\")\n",
    "ax.hist(df[df[\"HeartDisease\"] == 0][\"SkinCancer\"], bins=15, alpha=0.5, color=\"#fccc79\", label=\"Sano\")\n",
    "ax.set_xlabel(\"Cancro alla pelle\")\n",
    "ax.set_ylabel(\"Frequenza\")\n",
    "fig.suptitle(\"Distribuzione di casi positivi e negativi in relazione al cancro alla pelle\")\n",
    "ax.legend()"
   ]
  },
  {
   "cell_type": "code",
   "execution_count": null,
   "metadata": {},
   "outputs": [],
   "source": [
    "fig, ax = plt.subplots(figsize=(13, 6))\n",
    "ax.hist(df[df[\"HeartDisease\"] == 1][\"Stroke\"], bins=15, alpha=0.5, color=\"red\", label=\"Cardiopatia\")\n",
    "ax.hist(df[df[\"HeartDisease\"] == 0][\"Stroke\"], bins=15, alpha=0.5, color=\"#fccc79\", label=\"Sano\")\n",
    "ax.set_xlabel(\"Ictus\")\n",
    "ax.set_ylabel(\"Frequenza\")\n",
    "fig.suptitle(\"Distribuzione di casi positivi e negativi in relazione a ictus\")\n",
    "ax.legend()"
   ]
  },
  {
   "cell_type": "code",
   "execution_count": null,
   "metadata": {},
   "outputs": [],
   "source": [
    "fig, ax = plt.subplots(figsize=(13, 6))\n",
    "ax.hist(df[df[\"HeartDisease\"] == 1][\"Diabetic\"], bins=15, alpha=0.5, color=\"red\", label=\"Cardiopatia\")\n",
    "ax.hist(df[df[\"HeartDisease\"] == 0][\"Diabetic\"], bins=15, alpha=0.5, color=\"#fccc79\", label=\"Sano\")\n",
    "ax.set_xlabel(\"Diabetico\")\n",
    "ax.set_ylabel(\"Frequenza\")\n",
    "fig.suptitle(\"Distribuzione di casi positivi e negativi in relazione al diabete\")\n",
    "ax.legend()"
   ]
  },
  {
   "cell_type": "code",
   "execution_count": null,
   "metadata": {},
   "outputs": [],
   "source": [
    "correlation = df.corr().round(2)\n",
    "plt.figure(figsize=(14, 7))\n",
    "sns.heatmap(correlation, annot=True, cmap='YlOrBr')\n",
    "sns.set_style('white')\n",
    "# sns.set_palette('YlOrBr')\n",
    "plt.figure(figsize=(13, 6))\n",
    "plt.title('Distribuzione della correlazione di features')\n",
    "abs(correlation['HeartDisease']).sort_values()[:-1].plot.barh()\n",
    "plt.show()\n",
    "print('Distribuzione della correlazione di features')"
   ]
  },
  {
   "cell_type": "code",
   "execution_count": null,
   "metadata": {},
   "outputs": [],
   "source": [
    "fig, ax = plt.subplots(figsize=(13, 5))\n",
    "sns.kdeplot(df[df[\"HeartDisease\"] == 1][\"BMI\"], alpha=0.5, shade=True, color=\"red\", label=\"Cardiopatia\", ax=ax)\n",
    "sns.kdeplot(df[df[\"HeartDisease\"] == 0][\"BMI\"], alpha=0.5, shade=True, color=\"#fccc79\", label=\"Sano\", ax=ax)\n",
    "plt.title('Distribuzione dell\\'indice di massa corporea', fontsize=18)\n",
    "ax.set_xlabel(\"Massa corporea\")\n",
    "ax.set_ylabel(\"Frequenza\")\n",
    "ax.legend()\n",
    "plt.show()\n",
    "print('Distribuzione dell\\'indice di massa corporea')"
   ]
  },
  {
   "cell_type": "code",
   "execution_count": null,
   "metadata": {},
   "outputs": [],
   "source": [
    "fig, ax = plt.subplots(figsize=(13, 5))\n",
    "sns.kdeplot(df[df[\"HeartDisease\"] == 1][\"SleepTime\"], alpha=0.5, shade=True, color=\"red\", label=\"Cardiopatia\", ax=ax)\n",
    "sns.kdeplot(df[df[\"HeartDisease\"] == 0][\"SleepTime\"], alpha=0.5, shade=True, color=\"#fccc79\", label=\"Sano\", ax=ax)\n",
    "plt.title('Distribuzione delle ore di sonno', fontsize=18)\n",
    "ax.set_xlabel(\"Ore di sonno\")\n",
    "ax.set_ylabel(\"Frequenza\")\n",
    "ax.legend()\n",
    "plt.show()\n",
    "print('Distribuzione delle ore di sonno')"
   ]
  },
  {
   "cell_type": "code",
   "execution_count": null,
   "metadata": {},
   "outputs": [],
   "source": [
    "fig, ax = plt.subplots(figsize=(13, 5))\n",
    "sns.kdeplot(df[df[\"HeartDisease\"] == 1][\"PhysicalHealth\"], alpha=0.5, shade=True, color=\"red\", label=\"Cardiopatia\", ax=ax)\n",
    "sns.kdeplot(df[df[\"HeartDisease\"] == 0][\"PhysicalHealth\"], alpha=0.5, shade=True, color=\"#fccc79\", label=\"Sano\", ax=ax)\n",
    "plt.title('Distribuzione dello stato di salute fisica nell\\'ultimo mese', fontsize=18)\n",
    "ax.set_xlabel(\"Salute fisica\")\n",
    "ax.set_ylabel(\"Frequenza\")\n",
    "ax.legend()\n",
    "plt.show()\n",
    "print('Distribuzione dello stato di salute fisica nell\\'ultimo mese')"
   ]
  },
  {
   "cell_type": "code",
   "execution_count": null,
   "metadata": {},
   "outputs": [],
   "source": [
    "fig, ax = plt.subplots(figsize=(13, 5))\n",
    "sns.kdeplot(df[df[\"HeartDisease\"] == 1][\"MentalHealth\"], alpha=0.5, shade=True, color=\"red\", label=\"Cardiopatia\", ax=ax)\n",
    "sns.kdeplot(df[df[\"HeartDisease\"] == 0][\"MentalHealth\"], alpha=0.5, shade=True, color=\"#fccc79\", label=\"Sano\", ax=ax)\n",
    "plt.title('Distribuzione dello stato di salute mentale nell\\'ultimo mese', fontsize=18)\n",
    "ax.set_xlabel(\"Salute mentale\")\n",
    "ax.set_ylabel(\"Frequenza\")\n",
    "ax.legend()\n",
    "plt.show()\n",
    "print('Distribuzione dello stato di salute fisica nell\\'ultimo mese')"
   ]
  },
  {
   "cell_type": "markdown",
   "metadata": {},
   "source": [
    "https://scikit-learn.org/stable/modules/generated/sklearn.preprocessing.StandardScaler.html"
   ]
  },
  {
   "cell_type": "code",
   "execution_count": null,
   "metadata": {},
   "outputs": [],
   "source": [
    "from sklearn.preprocessing import StandardScaler\n",
    "num_cols = ['MentalHealth', 'BMI', 'PhysicalHealth', 'SleepTime']\n",
    "Scaler = StandardScaler()\n",
    "df[num_cols] = Scaler.fit_transform(df[num_cols])"
   ]
  },
  {
   "cell_type": "markdown",
   "metadata": {},
   "source": [
    "https://scikit-learn.org/stable/modules/generated/sklearn.preprocessing.OneHotEncoder.html"
   ]
  },
  {
   "cell_type": "code",
   "execution_count": null,
   "metadata": {},
   "outputs": [],
   "source": [
    "from sklearn.preprocessing import OneHotEncoder\n",
    "enc = OneHotEncoder()"
   ]
  },
  {
   "cell_type": "markdown",
   "metadata": {},
   "source": [
    "Codifica delle features categoriche"
   ]
  },
  {
   "cell_type": "code",
   "execution_count": null,
   "metadata": {},
   "outputs": [],
   "source": [
    "categ = df[['AgeCategory', 'Race', 'GenHealth']]\n",
    "encoded_categ = pd.DataFrame(enc.fit_transform(categ).toarray())"
   ]
  },
  {
   "cell_type": "markdown",
   "metadata": {},
   "source": [
    "Collegamento delle feature caregoriche codificate con il data frame"
   ]
  },
  {
   "cell_type": "code",
   "execution_count": null,
   "metadata": {},
   "outputs": [],
   "source": [
    "df = pd.concat([df, encoded_categ], axis=1)"
   ]
  },
  {
   "cell_type": "markdown",
   "metadata": {},
   "source": [
    "Pulizia delle colonne"
   ]
  },
  {
   "cell_type": "code",
   "execution_count": null,
   "metadata": {},
   "outputs": [],
   "source": [
    "df = df.drop(columns=['AgeCategory', 'Race', 'GenHealth'], axis=1)"
   ]
  },
  {
   "cell_type": "markdown",
   "metadata": {},
   "source": [
    "Selezione delle features"
   ]
  },
  {
   "cell_type": "code",
   "execution_count": null,
   "metadata": {},
   "outputs": [],
   "source": [
    "features = df.drop(columns=['HeartDisease'], axis=1)"
   ]
  },
  {
   "cell_type": "markdown",
   "metadata": {},
   "source": [
    "Selezione del arget"
   ]
  },
  {
   "cell_type": "code",
   "execution_count": null,
   "metadata": {},
   "outputs": [],
   "source": [
    "target = df['HeartDisease']"
   ]
  },
  {
   "cell_type": "markdown",
   "metadata": {},
   "source": [
    "Impostazione dei dati di train e test<br>\n",
    "https://scikit-learn.org/stable/modules/generated/sklearn.model_selection.train_test_split.html"
   ]
  },
  {
   "cell_type": "code",
   "execution_count": null,
   "metadata": {},
   "outputs": [],
   "source": [
    "from sklearn.model_selection import train_test_split\n",
    "X_train, X_test, y_train, y_test = train_test_split(features, target, shuffle=True, test_size=.2, random_state=44)\n",
    "print('Dimensioni del training feature:', X_train.shape)\n",
    "print('Dimensioni del testing feature:', X_test.shape)\n",
    "print('Dimensioni del training label:', y_train.shape)\n",
    "print('Dimensioni del training label:', y_test.shape)"
   ]
  },
  {
   "cell_type": "code",
   "execution_count": null,
   "metadata": {},
   "outputs": [],
   "source": [
    "def evaluate_model(model, x_test, y_test):\n",
    "    from sklearn import metrics\n",
    "    # Predizione su dati test\n",
    "    y_pred = model.predict(x_test)\n",
    "    # Calcolo di accuracy, precision, recall, f1-score e kappa score\n",
    "    acc = metrics.accuracy_score(y_test, y_pred)\n",
    "    prec = metrics.precision_score(y_test, y_pred)\n",
    "    rec = metrics.recall_score(y_test, y_pred)\n",
    "    f1 = metrics.f1_score(y_test, y_pred)\n",
    "    kappa = metrics.cohen_kappa_score(y_test, y_pred)\n",
    "    # Calcolo area under curve (AUC)\n",
    "    y_pred_proba = model.predict_proba(x_test)[::, 1]\n",
    "    fpr, tpr, _ = metrics.roc_curve(y_test, y_pred_proba)\n",
    "    auc = metrics.roc_auc_score(y_test, y_pred_proba)\n",
    "    # Stampa del grafico confusion matrix\n",
    "    # cm = metrics.confusion_matrix(y_test, y_pred) vecchio\n",
    "    cm = confusion_matrix(y_test, y_pred)  # nuovo\n",
    "    return {'acc': acc, 'prec': prec, 'rec': rec, 'f1': f1, 'kappa': kappa, 'fpr': fpr, 'tpr': tpr, 'auc': auc, 'cm': cm, 'y_pred': y_pred}"
   ]
  },
  {
   "cell_type": "markdown",
   "metadata": {},
   "source": [
    "Importa, imposta e usa la regressione logistica"
   ]
  },
  {
   "cell_type": "code",
   "execution_count": null,
   "metadata": {},
   "outputs": [],
   "source": [
    "from sklearn.linear_model import LogisticRegression\n",
    "logreg = LogisticRegression(max_iter=150)\n",
    "logreg.fit(X_train, y_train)\n",
    "logreg_eval = evaluate_model(logreg, X_test, y_test)\n",
    "print('\\n Regressione Logistica')\n",
    "print('Accuracy:', logreg_eval['acc'])\n",
    "print('Precision:', logreg_eval['prec'])\n",
    "print('Recall:', logreg_eval['rec'])\n",
    "print('F1 Score:', logreg_eval['f1'])\n",
    "print('Cohens Kappa Score:', logreg_eval['kappa'])\n",
    "print('Area Under Curve:', logreg_eval['auc'])\n",
    "disp = ConfusionMatrixDisplay(confusion_matrix=logreg_eval['cm'])  # nuovo\n",
    "disp.plot()\n",
    "plt.show()"
   ]
  },
  {
   "cell_type": "markdown",
   "metadata": {},
   "source": [
    "Importa, imposta e usa il naive Bayes gaussiano<br>\n",
    "from sklearn.naive_bayes import GaussianNB"
   ]
  },
  {
   "cell_type": "code",
   "execution_count": null,
   "metadata": {},
   "outputs": [],
   "source": [
    "gnb = GaussianNB()\n",
    "gnb.fit(X_train, y_train)\n",
    "gnb_eval = evaluate_model(gnb, X_test, y_test)\n",
    "print('\\n Naive Bayes gaussiano ')\n",
    "print('Accuracy:', gnb_eval['acc'])\n",
    "print('Precision:', gnb_eval['prec'])\n",
    "print('Recall:', gnb_eval['rec'])\n",
    "print('F1 Score:', gnb_eval['f1'])\n",
    "print('Cohens Kappa Score:', gnb_eval['kappa'])\n",
    "print('Area Under Curve:', gnb_eval['auc'])\n",
    "disp = ConfusionMatrixDisplay(confusion_matrix=gnb_eval['cm'])  # nuovo\n",
    "disp.plot()\n",
    "plt.show()"
   ]
  },
  {
   "cell_type": "markdown",
   "metadata": {},
   "source": [
    "Importa, imposta e usa il k nearest neighbors"
   ]
  },
  {
   "cell_type": "code",
   "execution_count": null,
   "metadata": {},
   "outputs": [],
   "source": [
    "from sklearn.neighbors import KNeighborsClassifier\n",
    "knn = KNeighborsClassifier()\n",
    "knn.fit(X_train, y_train)\n",
    "knn_eval = evaluate_model(knn, X_test, y_test)\n",
    "print('\\n classificatore K nearest neighbors')\n",
    "print('Accuracy:', knn_eval['acc'])\n",
    "print('Precision:', knn_eval['prec'])\n",
    "print('Recall:', knn_eval['rec'])\n",
    "print('F1 Score:', knn_eval['f1'])\n",
    "print('Cohens Kappa Score:', knn_eval['kappa'])\n",
    "print('Area Under Curve:', knn_eval['auc'])\n",
    "disp = ConfusionMatrixDisplay(confusion_matrix=knn_eval['cm'])  # nuovo\n",
    "disp.plot()\n",
    "plt.show()"
   ]
  },
  {
   "cell_type": "markdown",
   "metadata": {},
   "source": [
    "Importa, imposta e usa la random forest"
   ]
  },
  {
   "cell_type": "code",
   "execution_count": null,
   "metadata": {},
   "outputs": [],
   "source": [
    "from sklearn.ensemble import RandomForestClassifier\n",
    "rfc = RandomForestClassifier()\n",
    "rfc.fit(X_train, y_train)\n",
    "rfc_eval = evaluate_model(rfc, X_test, y_test)\n",
    "print('\\n classificatore random forest')\n",
    "print('Accuracy:', rfc_eval['acc'])\n",
    "print('Precision:', rfc_eval['prec'])\n",
    "print('Recall:', rfc_eval['rec'])\n",
    "print('F1 Score:', rfc_eval['f1'])\n",
    "print('Cohens Kappa Score:', rfc_eval['kappa'])\n",
    "print('Area Under Curve:', rfc_eval['auc'])\n",
    "disp = ConfusionMatrixDisplay(confusion_matrix=rfc_eval['cm'])  # nuovo\n",
    "disp.plot()\n",
    "plt.show()"
   ]
  },
  {
   "cell_type": "markdown",
   "metadata": {},
   "source": [
    "Importa, imposta e usa l'Ada boost"
   ]
  },
  {
   "cell_type": "code",
   "execution_count": null,
   "metadata": {},
   "outputs": [],
   "source": [
    "from sklearn.ensemble import AdaBoostClassifier\n",
    "abc = AdaBoostClassifier(n_estimators=100)\n",
    "abc.fit(X_train, y_train)\n",
    "abc_eval = evaluate_model(abc, X_test, y_test)\n",
    "print('\\n classificatore Ada Boost')\n",
    "print('Accuracy:', abc_eval['acc'])\n",
    "print('Precision:', abc_eval['prec'])\n",
    "print('Recall:', abc_eval['rec'])\n",
    "print('F1 Score:', abc_eval['f1'])\n",
    "print('Cohens Kappa Score:', abc_eval['kappa'])\n",
    "print('Area Under Curve:', abc_eval['auc'])\n",
    "disp = ConfusionMatrixDisplay(confusion_matrix=abc_eval['cm'])  # nuovo\n",
    "disp.plot()\n",
    "plt.show()"
   ]
  },
  {
   "cell_type": "markdown",
   "metadata": {},
   "source": [
    "Inizializza l'immagine con due grafici"
   ]
  },
  {
   "cell_type": "code",
   "execution_count": null,
   "metadata": {},
   "outputs": [],
   "source": [
    "fig, (ax1, ax2) = plt.subplots(1, 2)\n",
    "fig.suptitle('Confronto dei modelli', fontsize=16, fontweight='bold')\n",
    "fig.set_figheight(7)\n",
    "fig.set_figwidth(14)\n",
    "fig.set_facecolor('white')"
   ]
  },
  {
   "cell_type": "markdown",
   "metadata": {},
   "source": [
    "Primo grafico"
   ]
  },
  {
   "cell_type": "code",
   "execution_count": null,
   "metadata": {},
   "outputs": [],
   "source": [
    "barWidth = 0.2\n",
    "knn_score = [knn_eval['acc'], knn_eval['prec'], knn_eval['rec'], knn_eval['f1'], knn_eval['kappa']]\n",
    "logreg_score = [logreg_eval['acc'], logreg_eval['prec'], logreg_eval['rec'], logreg_eval['f1'], logreg_eval['kappa']]\n",
    "rfc_score = [rfc_eval['acc'], rfc_eval['prec'], rfc_eval['rec'], rfc_eval['f1'], rfc_eval['kappa']]\n",
    "gnb_score = [gnb_eval['acc'], gnb_eval['prec'], gnb_eval['rec'], gnb_eval['f1'], gnb_eval['kappa']]\n",
    "abc_score = [abc_eval['acc'], abc_eval['prec'], abc_eval['rec'], abc_eval['f1'], abc_eval['kappa']]"
   ]
  },
  {
   "cell_type": "markdown",
   "metadata": {},
   "source": [
    "Imposta la posizione della barra sulle ascisse"
   ]
  },
  {
   "cell_type": "code",
   "execution_count": null,
   "metadata": {},
   "outputs": [],
   "source": [
    "r1 = np.arange(len(knn_score))\n",
    "r2 = [x + barWidth for x in r1]\n",
    "r3 = [x + barWidth for x in r2]\n",
    "r4 = [x + barWidth for x in r3]\n",
    "r5 = [x + barWidth for x in r4]"
   ]
  },
  {
   "cell_type": "markdown",
   "metadata": {},
   "source": [
    "Crea il grafico"
   ]
  },
  {
   "cell_type": "code",
   "execution_count": null,
   "metadata": {},
   "outputs": [],
   "source": [
    "ax1.bar(r1, knn_score, width=barWidth, edgecolor='white', label='K Nearest Neighbors')\n",
    "ax1.bar(r2, logreg_score, width=barWidth, edgecolor='white', label='Regressione Logistica')\n",
    "ax1.bar(r3, gnb_score, width=barWidth, edgecolor='white', label='Naive Bayes Gaussiano')\n",
    "ax1.bar(r4, rfc_score, width=barWidth, edgecolor='white', label='Foresta Casuale')\n",
    "ax1.bar(r5, abc_score, width=barWidth, edgecolor='white', label='Ada Boost')"
   ]
  },
  {
   "cell_type": "markdown",
   "metadata": {},
   "source": [
    "Configura assi cartesiane"
   ]
  },
  {
   "cell_type": "code",
   "execution_count": null,
   "metadata": {},
   "outputs": [],
   "source": [
    "ax1.set_xlabel('Metriche', fontweight='bold')\n",
    "labels = ['Accuracy', 'Precision', 'Recall', 'F1', 'Kappa']\n",
    "ax1.set_xticks([r + (barWidth * 1.5) for r in range(len(knn_score))], )\n",
    "ax1.set_xticklabels(labels)\n",
    "ax1.set_ylabel('Punteggio', fontweight='bold')\n",
    "ax1.set_ylim(0, 1)"
   ]
  },
  {
   "cell_type": "markdown",
   "metadata": {},
   "source": [
    "Crea legenda e titolo"
   ]
  },
  {
   "cell_type": "code",
   "execution_count": null,
   "metadata": {},
   "outputs": [],
   "source": [
    "ax1.set_title('Metriche di valutazione', fontsize=14, fontweight='bold')\n",
    "ax1.legend()"
   ]
  },
  {
   "cell_type": "markdown",
   "metadata": {},
   "source": [
    "Secondo grafico<br>\n",
    "Curva ROC comparata"
   ]
  },
  {
   "cell_type": "code",
   "execution_count": null,
   "metadata": {},
   "outputs": [],
   "source": [
    "ax2.plot(knn_eval['fpr'], knn_eval['tpr'], label='K Nearest Neighbors, auc = {:0.5f}'.format(knn_eval['auc']))\n",
    "ax2.plot(logreg_eval['fpr'], logreg_eval['tpr'], label='Regressione Logistica, auc = {:0.5f}'.format(logreg_eval['auc']))\n",
    "ax2.plot(gnb_eval['fpr'], gnb_eval['tpr'], label='Naive Bayes Gaussiano, auc = {:0.5f}'.format(gnb_eval['auc']))\n",
    "ax2.plot(rfc_eval['fpr'], rfc_eval['tpr'], label='Foresta Casuale, auc = {:0.5f}'.format(rfc_eval['auc']))\n",
    "ax2.plot(abc_eval['fpr'], abc_eval['tpr'], label='Ada Boost, auc = {:0.5f}'.format(abc_eval['auc']))"
   ]
  },
  {
   "cell_type": "markdown",
   "metadata": {},
   "source": [
    "Configura assi cartesiane"
   ]
  },
  {
   "cell_type": "code",
   "execution_count": null,
   "metadata": {},
   "outputs": [],
   "source": [
    "ax2.set_xlabel('Tasso di falsi positivi', fontweight='bold')\n",
    "ax2.set_ylabel('Tasso di veri positivi', fontweight='bold')"
   ]
  },
  {
   "cell_type": "markdown",
   "metadata": {},
   "source": [
    "Crea legenda e titolo"
   ]
  },
  {
   "cell_type": "code",
   "execution_count": null,
   "metadata": {},
   "outputs": [],
   "source": [
    "ax2.set_title('ROC Curve', fontsize=14, fontweight='bold')\n",
    "ax2.legend(loc=4)\n",
    "plt.show()"
   ]
  }
 ],
 "metadata": {
  "kernelspec": {
   "display_name": "Python 3",
   "language": "python",
   "name": "python3"
  },
  "language_info": {
   "codemirror_mode": {
    "name": "ipython",
    "version": 3
   },
   "file_extension": ".py",
   "mimetype": "text/x-python",
   "name": "python",
   "nbconvert_exporter": "python",
   "pygments_lexer": "ipython3",
   "version": "3.6.4"
  }
 },
 "nbformat": 4,
 "nbformat_minor": 2
}